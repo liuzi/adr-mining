{
 "cells": [
  {
   "cell_type": "code",
   "execution_count": 1,
   "metadata": {},
   "outputs": [],
   "source": [
    "import pandas as pd\n",
    "import matplotlib.pyplot as plt"
   ]
  },
  {
   "cell_type": "code",
   "execution_count": null,
   "metadata": {},
   "outputs": [],
   "source": [
    "pd.options.display.max_rows = 4000"
   ]
  },
  {
   "cell_type": "code",
   "execution_count": 2,
   "metadata": {},
   "outputs": [],
   "source": [
    "fname=\"distance_num_sde.csv\"\n",
    "df = pd.read_csv(fname)\n",
    "## patientcounts number of patients in cluster_0\n",
    "df[\"patientcounts\"] = [7774,15459,4509,15869,3980,4865,5392,3719,11387,4480,7161,2154,4865]\n",
    "df[\"Name\"] = [\"Hydralazine\",\"Metoprolol\",\"Vancomycin\",\"Magnesium\",\"Coumadin\",\"Propofol\",\"Plavix\",\"Zosyn\",\"Pantoprazole\",\"Hydromorphone\",\"Ipratropium\",\"Furosemide\",\"Coumadin\"]\n",
    "df[\"norm_SIDER\"] = df[\"SIDER\"]/df[\"patientcounts\"] #IGNORE\n",
    "## normalize # diseases diveided by num paitents given the drug\n",
    "df['norm_ES_CM_CBOTH'] = df['ES_NS_CM_CBOTH']/df[\"patientcounts\"]\n",
    "df['norm_ES_UN_CBOTH'] = df['ES_NS_UN_CBOTH']/df[\"patientcounts\"]\n",
    "df['norm_ES_S_CM_CBOTH'] = df['ES_S_CM_CBOTH']/df[\"patientcounts\"]\n",
    "df['norm_ES_S_UN_CBOTH'] = df['ES_S_UN_CBOTH']/df[\"patientcounts\"]"
   ]
  },
  {
   "cell_type": "code",
   "execution_count": 3,
   "metadata": {},
   "outputs": [],
   "source": [
    "df = df.drop([9,12]) #some problem with Hydromorphone and didn't want Coumadin (different dose) twice"
   ]
  },
  {
   "cell_type": "code",
   "execution_count": 4,
   "metadata": {},
   "outputs": [
    {
     "data": {
      "text/plain": [
       "Index(['RXNORM', 'D_EN_N', 'D_EN_M', 'D_EN_Q', 'ND_EN_N', 'ND_EN_M', 'ND_EN_Q',\n",
       "       'S_EN_N', 'S_EN_M', 'S_EN_Q', 'NS_EN_N', 'NS_EN_M', 'NS_EN_Q', 'D_ES_N',\n",
       "       'D_ES_M', 'D_ES_Q', 'ND_ES_N', 'ND_ES_M', 'ND_ES_Q', 'S_ES_N', 'S_ES_M',\n",
       "       'S_ES_Q', 'NS_ES_N', 'NS_ES_M', 'NS_ES_Q', 'D_DS_N', 'D_DS_M', 'D_DS_Q',\n",
       "       'ND_DS_N', 'ND_DS_M', 'ND_DS_Q', 'S_DS_N', 'S_DS_M', 'S_DS_Q',\n",
       "       'NS_DS_N', 'NS_DS_M', 'NS_DS_Q', 'DS_NS_CM_C0', 'DS_NS_CM_C1',\n",
       "       'DS_NS_CM_CBOTH', 'DS_NS_UN_C0', 'DS_NS_UN_C1', 'DS_NS_UN_CBOTH',\n",
       "       'DS_S_CM_C0', 'DS_S_CM_C1', 'DS_S_CM_CBOTH', 'DS_S_UN_C0', 'DS_S_UN_C1',\n",
       "       'DS_S_UN_CBOTH', 'EN_NS_CM_C0', 'EN_NS_CM_C1', 'EN_NS_CM_CBOTH',\n",
       "       'EN_NS_UN_C0', 'EN_NS_UN_C1', 'EN_NS_UN_CBOTH', 'EN_S_CM_C0',\n",
       "       'EN_S_CM_C1', 'EN_S_CM_CBOTH', 'EN_S_UN_C0', 'EN_S_UN_C1',\n",
       "       'EN_S_UN_CBOTH', 'ES_NS_CM_C0', 'ES_NS_CM_C1', 'ES_NS_CM_CBOTH',\n",
       "       'ES_NS_UN_C0', 'ES_NS_UN_C1', 'ES_NS_UN_CBOTH', 'ES_S_CM_C0',\n",
       "       'ES_S_CM_C1', 'ES_S_CM_CBOTH', 'ES_S_UN_C0', 'ES_S_UN_C1',\n",
       "       'ES_S_UN_CBOTH', 'SIDER', 'patientcounts', 'Name', 'norm_SIDER',\n",
       "       'norm_ES_CM_CBOTH', 'norm_ES_UN_CBOTH', 'norm_ES_S_CM_CBOTH',\n",
       "       'norm_ES_S_UN_CBOTH'],\n",
       "      dtype='object')"
      ]
     },
     "execution_count": 4,
     "metadata": {},
     "output_type": "execute_result"
    }
   ],
   "source": [
    "df.columns"
   ]
  },
  {
   "cell_type": "code",
   "execution_count": 5,
   "metadata": {},
   "outputs": [
    {
     "data": {
      "text/plain": [
       "count     11.000000\n",
       "mean      73.636364\n",
       "std       67.985694\n",
       "min        4.000000\n",
       "25%       31.000000\n",
       "50%       59.000000\n",
       "75%       86.500000\n",
       "max      248.000000\n",
       "Name: ES_S_CM_CBOTH, dtype: float64"
      ]
     },
     "execution_count": 5,
     "metadata": {},
     "output_type": "execute_result"
    }
   ],
   "source": [
    "df['ES_S_CM_CBOTH'].describe()"
   ]
  },
  {
   "cell_type": "code",
   "execution_count": 6,
   "metadata": {},
   "outputs": [
    {
     "data": {
      "text/plain": [
       "count     11.00000\n",
       "mean      96.00000\n",
       "std       61.95805\n",
       "min       10.00000\n",
       "25%       61.50000\n",
       "50%       81.00000\n",
       "75%      123.50000\n",
       "max      248.00000\n",
       "Name: ES_NS_CM_CBOTH, dtype: float64"
      ]
     },
     "execution_count": 6,
     "metadata": {},
     "output_type": "execute_result"
    }
   ],
   "source": [
    "df['ES_NS_CM_CBOTH'].describe()\n",
    "## more diseases indecated as side effects shown in disease"
   ]
  },
  {
   "cell_type": "code",
   "execution_count": 1,
   "metadata": {},
   "outputs": [],
   "source": [
    "#please add box-and-whiskers plot comparing ES_S_CM_CBOTH and ES_NS_CM_CBOTH\n",
    "## new diseases capture more side effects signals\n",
    "## new diseases as dependent variable"
   ]
  },
  {
   "cell_type": "code",
   "execution_count": 7,
   "metadata": {},
   "outputs": [],
   "source": [
    "# diff of inter-cluster Q dist between new drugs and all drugs distributions when clustering is done using ES feature\n",
    "# NOTE: want signals of ades, patients have similar diseases but different new diseases\n",
    "df[\"Diff_ND-D_ES_Q\"] = (df[\"ND_ES_Q\"] - df[\"D_ES_Q\"])\n",
    "# diff of inter-cluster Q dist between new dis and all dis distributions when clustering is done using ES feature\n",
    "\n",
    "df[\"Diff_NS-S_ES_Q\"] = (df[\"NS_ES_Q\"] - df[\"S_ES_Q\"])\n",
    "\n",
    "#sum of Q dist new dis distributions and Q dist new drug distributions when clustering is done using ES feature\n",
    "# NOTE: both are high\n",
    "df[\"Sum_NS+ND_ES_Q\"] = (df[\"NS_ES_Q\"] + df[\"ND_ES_Q\"])\n",
    "\n",
    "#sum of the two differences, measure singals of ade\n",
    "df[\"2sum\"] = df[\"Diff_NS-S_ES_Q\"] + df[\"Diff_ND-D_ES_Q\"]\n"
   ]
  },
  {
   "cell_type": "code",
   "execution_count": null,
   "metadata": {},
   "outputs": [],
   "source": [
    "df.sort_values(by=[\"Sum_NS+ND_ES_Q\"])"
   ]
  },
  {
   "cell_type": "code",
   "execution_count": null,
   "metadata": {},
   "outputs": [],
   "source": [
    "df.sort_values(by=[\"norm_SIDER\"])"
   ]
  },
  {
   "cell_type": "code",
   "execution_count": null,
   "metadata": {},
   "outputs": [],
   "source": [
    "df.sort_values(by=['2sum'])"
   ]
  },
  {
   "cell_type": "code",
   "execution_count": null,
   "metadata": {},
   "outputs": [],
   "source": [
    "plt.scatter(df[\"2sum\"], df[\"norm_SIDER\"])\n",
    "plt.show()"
   ]
  },
  {
   "cell_type": "code",
   "execution_count": 8,
   "metadata": {},
   "outputs": [
    {
     "data": {
      "image/png": "[encoded data removed]",
      "text/plain": [
       "<Figure size 432x288 with 1 Axes>"
      ]
     },
     "metadata": {
      "needs_background": "light"
     },
     "output_type": "display_data"
    }
   ],
   "source": [
    "# improve the plot - axis labels, med names, font size\n",
    "plt.scatter(df[\"2sum\"], df[\"norm_ES_CM_CBOTH\"])\n",
    "plt.show()\n",
    "# NOTE: plot better"
   ]
  },
  {
   "cell_type": "code",
   "execution_count": null,
   "metadata": {},
   "outputs": [],
   "source": [
    "plt.scatter(df[\"2sum\"], df[\"norm_ES_UN_CBOTH\"])\n",
    "plt.show()"
   ]
  },
  {
   "cell_type": "code",
   "execution_count": null,
   "metadata": {
    "scrolled": true
   },
   "outputs": [],
   "source": [
    "plt.scatter(df[\"Sum_NS+ND_ES_Q\"], df[\"norm_SIDER\"])\n",
    "plt.show()"
   ]
  },
  {
   "cell_type": "code",
   "execution_count": null,
   "metadata": {
    "scrolled": true
   },
   "outputs": [],
   "source": [
    "plt.scatter(df[\"Sum_NS+ND_ES_Q\"], df[\"norm_ES_UN_CBOTH\"])\n",
    "plt.show()"
   ]
  },
  {
   "cell_type": "code",
   "execution_count": 9,
   "metadata": {},
   "outputs": [
    {
     "data": {
      "image/png": "[encoded data removed]",
      "text/plain": [
       "<Figure size 432x288 with 1 Axes>"
      ]
     },
     "metadata": {
      "needs_background": "light"
     },
     "output_type": "display_data"
    }
   ],
   "source": [
    "# improve the plot - axis labels, med names, font size\n",
    "plt.scatter(df[\"Sum_NS+ND_ES_Q\"], df[\"norm_ES_CM_CBOTH\"])\n",
    "plt.show()"
   ]
  },
  {
   "cell_type": "code",
   "execution_count": null,
   "metadata": {},
   "outputs": [],
   "source": [
    "# we will show the above 2 correlation plots along with 1 Wasserstein distance plot (fig. 9 in overleaf) modified\n",
    "# in the following manner: use only ES feature and in a single graph, show S, NS, D, DS for Q dist and N dist. different entites using different patterns, yuanquan fangkuai xingxing\n",
    "# All the N dist plots will overlap and so there will just be one blue line\n",
    "# the 4 Q dist plots should be in different colours"
   ]
  },
  {
   "cell_type": "code",
   "execution_count": 10,
   "metadata": {},
   "outputs": [
    {
     "data": {
      "text/plain": [
       "0.6454545454545455"
      ]
     },
     "execution_count": 10,
     "metadata": {},
     "output_type": "execute_result"
    }
   ],
   "source": [
    "df[\"2sum\"].corr(df[\"norm_SIDER\"],method='spearman')"
   ]
  },
  {
   "cell_type": "code",
   "execution_count": 11,
   "metadata": {
    "scrolled": false
   },
   "outputs": [
    {
     "data": {
      "text/plain": [
       "0.6818181818181819"
      ]
     },
     "execution_count": 11,
     "metadata": {},
     "output_type": "execute_result"
    }
   ],
   "source": [
    "df[\"2sum\"].corr(df[\"norm_ES_CM_CBOTH\"],method='spearman')"
   ]
  },
  {
   "cell_type": "code",
   "execution_count": 12,
   "metadata": {},
   "outputs": [
    {
     "data": {
      "text/plain": [
       "0.7454545454545456"
      ]
     },
     "execution_count": 12,
     "metadata": {},
     "output_type": "execute_result"
    }
   ],
   "source": [
    "df[\"2sum\"].corr(df[\"norm_ES_UN_CBOTH\"],method='spearman')"
   ]
  },
  {
   "cell_type": "code",
   "execution_count": 13,
   "metadata": {},
   "outputs": [
    {
     "data": {
      "text/plain": [
       "0.7090909090909092"
      ]
     },
     "execution_count": 13,
     "metadata": {},
     "output_type": "execute_result"
    }
   ],
   "source": [
    "df[\"Sum_NS+ND_ES_Q\"].corr(df[\"norm_SIDER\"],method='spearman')"
   ]
  },
  {
   "cell_type": "code",
   "execution_count": 14,
   "metadata": {},
   "outputs": [
    {
     "data": {
      "text/plain": [
       "0.7272727272727273"
      ]
     },
     "execution_count": 14,
     "metadata": {},
     "output_type": "execute_result"
    }
   ],
   "source": [
    "df[\"Sum_NS+ND_ES_Q\"].corr(df[\"norm_ES_CM_CBOTH\"],method='spearman')"
   ]
  },
  {
   "cell_type": "code",
   "execution_count": 15,
   "metadata": {
    "scrolled": true
   },
   "outputs": [
    {
     "data": {
      "text/plain": [
       "0.8363636363636365"
      ]
     },
     "execution_count": 15,
     "metadata": {},
     "output_type": "execute_result"
    }
   ],
   "source": [
    "df[\"Sum_NS+ND_ES_Q\"].corr(df['norm_ES_UN_CBOTH'],method='spearman')"
   ]
  },
  {
   "cell_type": "code",
   "execution_count": null,
   "metadata": {},
   "outputs": [],
   "source": [
    "def corrFilter(x: pd.DataFrame, bound: float):\n",
    "    xCorr = x.corr(method='spearman')\n",
    "    xFiltered = xCorr[((xCorr >= bound) | (xCorr <= -bound)) & (xCorr !=1.000)]\n",
    "    xFlattened = xFiltered.unstack().sort_values().drop_duplicates().dropna()\n",
    "    return xFlattened\n",
    "\n",
    "## CLUSTER phenotypes can provides some signals to ADE"
   ]
  },
  {
   "cell_type": "code",
   "execution_count": null,
   "metadata": {},
   "outputs": [],
   "source": [
    "corrFilter(df, .8)"
   ]
  },
  {
   "cell_type": "code",
   "execution_count": null,
   "metadata": {},
   "outputs": [],
   "source": []
  }
 ],
 "metadata": {
  "kernelspec": {
   "name": "python374jvsc74a57bd0bb5c35ddf0ea8071be9ab959d5c54b725be239ec428a356e34a5c83affcdb334",
   "display_name": "Python 3.7.4 64-bit ('base': conda)"
  },
  "language_info": {
   "codemirror_mode": {
    "name": "ipython",
    "version": 3
   },
   "file_extension": ".py",
   "mimetype": "text/x-python",
   "name": "python",
   "nbconvert_exporter": "python",
   "pygments_lexer": "ipython3",
   "version": "3.7.4"
  }
 },
 "nbformat": 4,
 "nbformat_minor": 4
}